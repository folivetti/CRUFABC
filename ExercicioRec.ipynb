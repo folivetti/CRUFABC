{
 "cells": [
  {
   "cell_type": "code",
   "execution_count": 2,
   "metadata": {
    "collapsed": false
   },
   "outputs": [],
   "source": [
    "import networkx as nx\n",
    "import matplotlib as plt\n",
    "%matplotlib inline"
   ]
  },
  {
   "cell_type": "markdown",
   "metadata": {},
   "source": [
    "**Exercício 01:** Calcule a distância média, o diâmetro e o coeficiente de agrupamento das redes abaixo."
   ]
  },
  {
   "cell_type": "code",
   "execution_count": 9,
   "metadata": {
    "collapsed": false,
    "scrolled": false
   },
   "outputs": [
    {
     "data": {
      "image/png": "[encoded data removed]",
      "text/plain": [
       "<matplotlib.figure.Figure at 0x7f732a50e310>"
      ]
     },
     "metadata": {},
     "output_type": "display_data"
    }
   ],
   "source": [
    "G2 = nx.barabasi_albert_graph(6,3)\n",
    "nx.draw_shell(G2)\n",
    "pos = nx.shell_layout(G2)\n",
    "labels = dict( enumerate(G2.nodes()) )\n",
    "nx.draw_networkx_labels(G2,pos,labels,font_size=16);"
   ]
  },
  {
   "cell_type": "code",
   "execution_count": 10,
   "metadata": {
    "collapsed": false,
    "scrolled": false
   },
   "outputs": [
    {
     "name": "stdout",
     "output_type": "stream",
     "text": [
      "Dist. media:  1.4\n",
      "Diametro:  2\n",
      "Coef. Agrupamento médio:  0.761111111111\n"
     ]
    }
   ],
   "source": [
    "print \"Dist. media: \", nx.average_shortest_path_length(G2)\n",
    "print \"Diametro: \", nx.diameter(G2)\n",
    "print \"Coef. Agrupamento médio: \", nx.average_clustering(G2)"
   ]
  },
  {
   "cell_type": "markdown",
   "metadata": {},
   "source": [
    "**Exercício 02:** Calcule a centralidade de grau, betweenness e proximidade dos nós das redes abaixo:"
   ]
  },
  {
   "cell_type": "code",
   "execution_count": 11,
   "metadata": {
    "collapsed": false
   },
   "outputs": [
    {
     "name": "stdout",
     "output_type": "stream",
     "text": [
      "Centralidades de grau:\n",
      "0 0.4\n",
      "1 0.4\n",
      "2 0.4\n",
      "3 1.0\n",
      "4 0.8\n",
      "5 0.6\n"
     ]
    }
   ],
   "source": [
    "print \"Centralidades de grau:\"\n",
    "for ni,dc in nx.degree_centrality(G2).items():\n",
    "    print ni, dc"
   ]
  },
  {
   "cell_type": "code",
   "execution_count": 12,
   "metadata": {
    "collapsed": false
   },
   "outputs": [
    {
     "name": "stdout",
     "output_type": "stream",
     "text": [
      "Centralidades de proximidade:\n",
      "0 0.625\n",
      "1 0.625\n",
      "2 0.625\n",
      "3 1.0\n",
      "4 0.833333333333\n",
      "5 0.714285714286\n"
     ]
    }
   ],
   "source": [
    "print \"Centralidades de proximidade:\"\n",
    "for ni,dc in nx.closeness_centrality(G2).items():\n",
    "    print ni, dc"
   ]
  },
  {
   "cell_type": "code",
   "execution_count": 13,
   "metadata": {
    "collapsed": false
   },
   "outputs": [
    {
     "name": "stdout",
     "output_type": "stream",
     "text": [
      "Centralidades de betweenness:\n",
      "0 0.0\n",
      "1 0.0\n",
      "2 0.0\n",
      "3 0.4\n",
      "4 0.15\n",
      "5 0.05\n"
     ]
    }
   ],
   "source": [
    "print \"Centralidades de betweenness:\"\n",
    "for ni,dc in nx.betweenness_centrality(G2).items():\n",
    "    print ni, dc"
   ]
  },
  {
   "cell_type": "markdown",
   "metadata": {},
   "source": [
    "**Exercício 03:** Calcule a modularidade para a seguinte partição\n",
    "\n",
    "Partição 1: nós 2, 3 e 4\n",
    "Partição 2: nós 0, 1 e 5"
   ]
  },
  {
   "cell_type": "code",
   "execution_count": 17,
   "metadata": {
    "collapsed": false
   },
   "outputs": [
    {
     "name": "stdout",
     "output_type": "stream",
     "text": [
      "Modularidade:  -0.0802469135802\n"
     ]
    }
   ],
   "source": [
    "from community import *\n",
    "partition = dict( [(2,0),(3,0),(4,0), (1,1),(5,1),(0,1)] )\n",
    "print \"Modularidade: \", modularity(partition,G2)"
   ]
  },
  {
   "cell_type": "markdown",
   "metadata": {},
   "source": [
    "**Exercício 04:** Calcule a assortatividade de grau da rede"
   ]
  },
  {
   "cell_type": "code",
   "execution_count": 18,
   "metadata": {
    "collapsed": false
   },
   "outputs": [
    {
     "name": "stdout",
     "output_type": "stream",
     "text": [
      "Assortatividade:  -0.588235294118\n"
     ]
    }
   ],
   "source": [
    "print \"Assortatividade: \", nx.degree_assortativity_coefficient(G2)"
   ]
  },
  {
   "cell_type": "code",
   "execution_count": null,
   "metadata": {
    "collapsed": true
   },
   "outputs": [],
   "source": []
  }
 ],
 "metadata": {
  "kernelspec": {
   "display_name": "Python 2",
   "language": "python",
   "name": "python2"
  },
  "language_info": {
   "codemirror_mode": {
    "name": "ipython",
    "version": 2
   },
   "file_extension": ".py",
   "mimetype": "text/x-python",
   "name": "python",
   "nbconvert_exporter": "python",
   "pygments_lexer": "ipython2",
   "version": "2.7.10"
  }
 },
 "nbformat": 4,
 "nbformat_minor": 0
}
